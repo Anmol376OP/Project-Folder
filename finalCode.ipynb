{
 "cells": [
  {
   "cell_type": "code",
   "execution_count": 7,
   "metadata": {},
   "outputs": [],
   "source": [
    "import cv2\n",
    "import numpy as np\n",
    "image = cv2.imread('i1.jpeg')\n",
    "\n",
    "kernel = np.ones((30, 30), np.uint8)\n",
    "\n",
    "\n",
    "closed_image = cv2.morphologyEx(image, cv2.MORPH_CLOSE, kernel)\n",
    "\n",
    "rt, thresholded_image = cv2.threshold(closed_image, 30, 255, cv2.THRESH_BINARY)\n",
    "\n",
    "image = cv2.cvtColor(image, cv2.COLOR_BGR2GRAY)\n",
    "\n",
    "rt2, image = cv2.threshold(image, 128, 255, cv2.THRESH_BINARY)\n",
    "\n",
    "black_mask_thresholded = cv2.cvtColor(thresholded_image, cv2.COLOR_BGR2GRAY)\n",
    "rt3, black_mask_thresholded = cv2.threshold(\n",
    "    black_mask_thresholded, 20, 255, cv2.THRESH_BINARY)\n",
    "\n",
    "\n",
    "mask = np.logical_and(image == 0, black_mask_thresholded == 0)\n",
    "# print(mask)\n",
    "image[mask] = 255\n",
    "\n",
    "cv2.imwrite(\"output.png\", image)\n",
    "cv2.imshow(\"Image: \", image)\n",
    "cv2.waitKey(0)\n",
    "cv2.destroyAllWindows()\n"
   ]
  },
  {
   "cell_type": "code",
   "execution_count": 8,
   "metadata": {},
   "outputs": [
    {
     "name": "stdout",
     "output_type": "stream",
     "text": [
      "Number of head is - 12\n"
     ]
    }
   ],
   "source": [
    "from scipy import ndimage\n",
    "img = cv2.imread(\"output.png\")\n",
    "img_copy = 255-img\n",
    "kernel = cv2.getStructuringElement(cv2.MORPH_RECT, (3, 3))\n",
    "# Finding contours for the thresholded image\n",
    "opening1 = cv2.morphologyEx(img_copy, cv2.MORPH_OPEN, kernel, iterations=1)\n",
    "opening2 = cv2.morphologyEx(img_copy, cv2.MORPH_OPEN, kernel, iterations=5)\n",
    "\n",
    "# opening2=255-opening2\n",
    "opening1 = 255-opening1\n",
    "\n",
    "labeled, nr_objects = ndimage.label(opening2)\n",
    "print(\"Number of head is - \" + str(nr_objects))\n",
    "\n",
    "cv2.imshow(\"img\", opening2)\n",
    "\n",
    "cv2.waitKey(0)\n",
    "cv2.destroyAllWindows()\n",
    "# print(img)\n"
   ]
  }
 ],
 "metadata": {
  "kernelspec": {
   "display_name": "Python 3",
   "language": "python",
   "name": "python3"
  },
  "language_info": {
   "codemirror_mode": {
    "name": "ipython",
    "version": 3
   },
   "file_extension": ".py",
   "mimetype": "text/x-python",
   "name": "python",
   "nbconvert_exporter": "python",
   "pygments_lexer": "ipython3",
   "version": "3.11.2"
  }
 },
 "nbformat": 4,
 "nbformat_minor": 2
}
